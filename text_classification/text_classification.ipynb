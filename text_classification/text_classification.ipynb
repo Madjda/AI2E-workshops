{
 "cells": [
  {
   "cell_type": "markdown",
   "metadata": {},
   "source": [
    "### Quiz on what we did so far ! \n",
    "\n",
    "**1- What does a neuron compute ?**\n",
    "\n",
    "- [ ] A neuron computes an activation function followed by a linear function (z = Wx + b)\n",
    "- [ ] A neuron computes a linear function (z = Wx + b) followed by an activation function\n",
    "- [ ] A neuron computes a function g that scales the input x linearly (Wx + b)\n",
    "- [ ] A neuron computes the mean of all features before applying the output to an activation function\n",
    "\n",
    "\n",
    "**2- Consider the two following random arrays \"a\" and \"b\":**\n",
    "\n",
    "    ```\n",
    "    a = np.random.randn(2, 3) # a.shape = (2, 3)\n",
    "    b = np.random.randn(2, 1) # b.shape = (2, 1)\n",
    "    c = a + b\n",
    "    ```\n",
    "  **What will be the shape of \"c\"?**\n",
    "  \n",
    "  \n",
    "**3- Suppose img is a (32,32,3) array, representing a 32x32 image with 3 color channels red, green and blue. How do you reshape this into a column vector?**\n",
    "\n",
    "**4- Among the following, which ones are \"hyperparameters\"?**\n",
    "- [ ] size of the hidden layers\n",
    "- [ ] learning rate α\n",
    "- [ ] number of iterations\n",
    "- [ ] number of layers L in the neural network\n",
    "\n",
    "\n",
    "**5- Say you're training a model. If the output from the training process looks as shown below, what action would you take on the learning rate to improve the training?** \n",
    "\n",
    "```\n",
    "Epoch 1, Batch 1, Training Error: 8.4181\n",
    "Epoch 1, Batch 2, Training Error: 8.4177\n",
    "Epoch 1, Batch 3, Training Error: 8.4177\n",
    "Epoch 1, Batch 4, Training Error: 8.4173\n",
    "Epoch 1, Batch 5, Training Error: 8.4169\n",
    "```\n",
    "\n",
    "- [ ] Decrease the learning rate \n",
    "- [ ] Increase the learning rate \n",
    "- [ ] Try to train again\n",
    "\n",
    "```\n",
    "Epoch 1, Batch 1, Training Error: 8.71\n",
    "Epoch 1, Batch 2, Training Error: 3.25\n",
    "Epoch 1, Batch 3, Training Error: 4.93\n",
    "Epoch 1, Batch 4, Training Error: 3.30\n",
    "Epoch 1, Batch 5, Training Error: 4.82\n",
    "```\n",
    "\n",
    "- [ ] Decrease the learning rate \n",
    "- [ ] Increase the learning rate \n",
    "- [ ] Use an adaptive learning rate \n",
    "\n",
    "\n",
    "**6- How do Long Short Term Memory (LSTM) cells and Gated Recurrent Unit (GRU) cells compare?**\n",
    "\n",
    "- [ ] LSTM ARE BETTER ! \n",
    "- [ ] GRU ARE BETTER ! \n",
    "- [ ] What are these ? \n"
   ]
  },
  {
   "cell_type": "markdown",
   "metadata": {},
   "source": [
    "## Text Classification \n",
    "In this workshop, we will try to solve Zindi challenge : https://zindi.africa/competitions/basic-needs-basic-rights-kenya-tech4mentalhealth \n",
    "\n",
    "The objective of this challenge is to develop a machine learning model that classifies statements and questions expressed by university students in Kenya when speaking about the mental health challenges they struggle with. The four categories are depression, suicide, alchoholism, and drug abuse.\n"
   ]
  },
  {
   "cell_type": "code",
   "execution_count": 1,
   "metadata": {},
   "outputs": [],
   "source": [
    "import numpy as np \n",
    "import pandas as pd \n",
    "import matplotlib.pyplot as plt \n",
    "import seaborn as sns\n",
    "from sklearn.preprocessing import LabelEncoder\n",
    "from sklearn.preprocessing import OneHotEncoder\n",
    "from sklearn.feature_extraction.text import TfidfVectorizer\n",
    "from sklearn.feature_extraction.text import CountVectorizer\n",
    "from sklearn.model_selection import train_test_split\n",
    "from sklearn.pipeline import Pipeline\n",
    "from sklearn.naive_bayes import MultinomialNB\n",
    "from sklearn.multiclass import OneVsRestClassifier\n",
    "from sklearn.metrics import accuracy_score\n",
    "from sklearn.metrics.pairwise import cosine_similarity\n",
    "from collections import Counter\n",
    "import re\n",
    "import spacy # NLP Library \n",
    "\n",
    "import torch \n",
    "from torch.utils.data import Dataset, DataLoader\n",
    "from torchvision import transforms, utils\n",
    "import torch.nn as nn \n",
    "import torch.nn.functional as F\n",
    "from torch.nn.utils.rnn import pack_padded_sequence, pad_packed_sequence\n",
    "from sklearn.metrics import mean_squared_error"
   ]
  },
  {
   "cell_type": "code",
   "execution_count": 2,
   "metadata": {},
   "outputs": [
    {
     "data": {
      "text/html": [
       "<div>\n",
       "<style scoped>\n",
       "    .dataframe tbody tr th:only-of-type {\n",
       "        vertical-align: middle;\n",
       "    }\n",
       "\n",
       "    .dataframe tbody tr th {\n",
       "        vertical-align: top;\n",
       "    }\n",
       "\n",
       "    .dataframe thead th {\n",
       "        text-align: right;\n",
       "    }\n",
       "</style>\n",
       "<table border=\"1\" class=\"dataframe\">\n",
       "  <thead>\n",
       "    <tr style=\"text-align: right;\">\n",
       "      <th></th>\n",
       "      <th>ID</th>\n",
       "      <th>text</th>\n",
       "      <th>label</th>\n",
       "    </tr>\n",
       "  </thead>\n",
       "  <tbody>\n",
       "    <tr>\n",
       "      <th>0</th>\n",
       "      <td>SUAVK39Z</td>\n",
       "      <td>I feel that it was better I dieAm happy</td>\n",
       "      <td>Depression</td>\n",
       "    </tr>\n",
       "    <tr>\n",
       "      <th>1</th>\n",
       "      <td>9JDAGUV3</td>\n",
       "      <td>Why do I get hallucinations?</td>\n",
       "      <td>Drugs</td>\n",
       "    </tr>\n",
       "    <tr>\n",
       "      <th>2</th>\n",
       "      <td>419WR1LQ</td>\n",
       "      <td>I am stresseed due to lack of financial suppor...</td>\n",
       "      <td>Depression</td>\n",
       "    </tr>\n",
       "    <tr>\n",
       "      <th>3</th>\n",
       "      <td>6UY7DX6Q</td>\n",
       "      <td>Why is life important?</td>\n",
       "      <td>Suicide</td>\n",
       "    </tr>\n",
       "    <tr>\n",
       "      <th>4</th>\n",
       "      <td>FYC0FTFB</td>\n",
       "      <td>How could I be helped to go through the depres...</td>\n",
       "      <td>Depression</td>\n",
       "    </tr>\n",
       "    <tr>\n",
       "      <th>5</th>\n",
       "      <td>V6VSDJ5I</td>\n",
       "      <td>What are the effects of depression to ones health</td>\n",
       "      <td>Depression</td>\n",
       "    </tr>\n",
       "    <tr>\n",
       "      <th>6</th>\n",
       "      <td>9736J4UE</td>\n",
       "      <td>Why is everything so hard to deal with in this...</td>\n",
       "      <td>Depression</td>\n",
       "    </tr>\n",
       "    <tr>\n",
       "      <th>7</th>\n",
       "      <td>AY8L479Y</td>\n",
       "      <td>I feel emotionally overwhelmed</td>\n",
       "      <td>Depression</td>\n",
       "    </tr>\n",
       "    <tr>\n",
       "      <th>8</th>\n",
       "      <td>OSFJV5EC</td>\n",
       "      <td>How to manage taking alcohol?</td>\n",
       "      <td>Alcohol</td>\n",
       "    </tr>\n",
       "    <tr>\n",
       "      <th>9</th>\n",
       "      <td>U4SGUGGM</td>\n",
       "      <td>Is heaven open for us who smoke bhang?</td>\n",
       "      <td>Drugs</td>\n",
       "    </tr>\n",
       "  </tbody>\n",
       "</table>\n",
       "</div>"
      ],
      "text/plain": [
       "         ID                                               text       label\n",
       "0  SUAVK39Z            I feel that it was better I dieAm happy  Depression\n",
       "1  9JDAGUV3                       Why do I get hallucinations?       Drugs\n",
       "2  419WR1LQ  I am stresseed due to lack of financial suppor...  Depression\n",
       "3  6UY7DX6Q                             Why is life important?     Suicide\n",
       "4  FYC0FTFB  How could I be helped to go through the depres...  Depression\n",
       "5  V6VSDJ5I  What are the effects of depression to ones health  Depression\n",
       "6  9736J4UE  Why is everything so hard to deal with in this...  Depression\n",
       "7  AY8L479Y                    I feel emotionally overwhelmed   Depression\n",
       "8  OSFJV5EC                      How to manage taking alcohol?     Alcohol\n",
       "9  U4SGUGGM             Is heaven open for us who smoke bhang?       Drugs"
      ]
     },
     "execution_count": 2,
     "metadata": {},
     "output_type": "execute_result"
    }
   ],
   "source": [
    "data = pd.read_csv(\"dataset/Train.csv\")\n",
    "data.head(10)"
   ]
  },
  {
   "cell_type": "code",
   "execution_count": 4,
   "metadata": {},
   "outputs": [
    {
     "data": {
      "text/plain": [
       "array(['Depression', 'Drugs', 'Suicide', 'Alcohol'], dtype=object)"
      ]
     },
     "execution_count": 4,
     "metadata": {},
     "output_type": "execute_result"
    }
   ],
   "source": [
    "data[\"label\"].unique()"
   ]
  },
  {
   "cell_type": "code",
   "execution_count": 5,
   "metadata": {},
   "outputs": [
    {
     "data": {
      "text/plain": [
       "616"
      ]
     },
     "execution_count": 5,
     "metadata": {},
     "output_type": "execute_result"
    }
   ],
   "source": [
    "np.size(data[\"ID\"].unique())"
   ]
  },
  {
   "cell_type": "code",
   "execution_count": 3,
   "metadata": {
    "scrolled": true
   },
   "outputs": [
    {
     "name": "stdout",
     "output_type": "stream",
     "text": [
      "<class 'pandas.core.frame.DataFrame'>\n",
      "RangeIndex: 616 entries, 0 to 615\n",
      "Data columns (total 3 columns):\n",
      " #   Column  Non-Null Count  Dtype \n",
      "---  ------  --------------  ----- \n",
      " 0   ID      616 non-null    object\n",
      " 1   text    616 non-null    object\n",
      " 2   label   616 non-null    object\n",
      "dtypes: object(3)\n",
      "memory usage: 14.6+ KB\n"
     ]
    }
   ],
   "source": [
    "data.info()"
   ]
  },
  {
   "cell_type": "code",
   "execution_count": 6,
   "metadata": {},
   "outputs": [
    {
     "data": {
      "image/png": "[encoded data removed]",
      "text/plain": [
       "<Figure size 576x432 with 1 Axes>"
      ]
     },
     "metadata": {
      "needs_background": "light"
     },
     "output_type": "display_data"
    }
   ],
   "source": [
    "import matplotlib.pyplot as plt\n",
    "fig = plt.figure(figsize=(8,6))\n",
    "data.groupby(\"label\").ID.count().plot.bar(ylim=0)\n",
    "plt.show()"
   ]
  },
  {
   "cell_type": "code",
   "execution_count": 7,
   "metadata": {},
   "outputs": [],
   "source": [
    "def preprocess(text):\n",
    "    text = text.lower()\n",
    "    \n",
    "    text = text.replace('.', ' <PERIOD> ')\n",
    "    text = text.replace(',', ' <COMMA> ')\n",
    "    text = text.replace('\"', ' <QUOTATION_MARK> ')\n",
    "    text = text.replace(';', ' <SEMICOLON> ')\n",
    "    text = text.replace('!', ' <EXCLAMATION_MARK> ')\n",
    "    text = text.replace('?', ' <QUESTION_MARK> ')\n",
    "    text = text.replace('(', ' <LEFT_PAREN> ')\n",
    "    text = text.replace(')', ' <RIGHT_PAREN> ')\n",
    "    text = text.replace('--', ' <HYPHENS> ')\n",
    "    text = text.replace('?', ' <QUESTION_MARK> ')\n",
    "    \n",
    "    text = re.sub(r\"what's\", \"what is \", text)\n",
    "    text = re.sub(r\"\\'s\", \" \", text)\n",
    "    text = re.sub(r\"\\'ve\", \" have \", text)\n",
    "    text = re.sub(r\"can't\", \"can not \", text)\n",
    "    text = re.sub(r\"n't\", \" not \", text)\n",
    "    text = re.sub(r\"i'm\", \"i am \", text)\n",
    "    text = re.sub(r\"\\'re\", \" are \", text)\n",
    "    text = re.sub(r\"\\'d\", \" would \", text)\n",
    "    text = re.sub(r\"\\'ll\", \" will \", text)\n",
    "    text = re.sub(r\"\\'scuse\", \" excuse \", text)\n",
    "    text = re.sub('\\W', ' ', text)\n",
    "    text = re.sub('\\s+', ' ', text)\n",
    "    text = text.strip(' ')\n",
    "    \n",
    "    return text"
   ]
  },
  {
   "cell_type": "code",
   "execution_count": 8,
   "metadata": {},
   "outputs": [],
   "source": [
    "data['text'] = data[\"text\"].apply(preprocess)"
   ]
  },
  {
   "cell_type": "code",
   "execution_count": 9,
   "metadata": {},
   "outputs": [
    {
     "data": {
      "text/plain": [
       "'i feel that it was better i dieam happy why do i get hallucinations QUESTION_MARK i am stresseed due to lack of financial support in school why is life important QUESTION_MARK how could i be helped to go through the depression QUESTION_MARK what are the effects of depression to ones health why is everything so hard to deal with in this life i feel emotionally overwhelmed how to manage taking alcohol QUESTION_MARK is heaven open for us who smoke bhang QUESTION_MARK how to survive without money QUESTION_MARK how do i stop this QUESTION_MARK what do i do when life becomes unbearable QUESTION_MARK i was ever sad COMMA alone and always on drugsnow i know how to cope with negative aspects in my life i feel empty COMMA absent minded i experienced depression in my studies i feel like am alone in this world i feel low and out of place what should i do to get out of depression QUESTION_MARK how can i stop using alcohol QUESTION_MARK i feel hopeless COMMA unworthy and useless how do i cope with stress and frorge the past QUESTION_MARK does mediataton help stop weed addiction QUESTION_MARK i feel bad because life difficulties COMMA i also feel bad that i have no one to control what are the effects of smoking bhang QUESTION_MARK sadness COMMA hatrednow feeling is happiness feelings then were like everything was falling apart COMMA now things are in control how do i cope with ta difficult situation QUESTION_MARK what will i d to avoid it QUESTION_MARK deteriorating academic performance effect of alcohol both in the society and my body how could i stop using bhang how to avoid drug abuse QUESTION_MARK how will i stop QUESTION_MARK what addiction means PERIOD i feel rejected is it right for depressed person to use drugs i just stopped taking alcohol because i thought it was not good for me how do i seek help from alcoholism i am very stressed main challenges of depression and their side effects to my health feel confused and helpless and was pushed to the cornerfeeling kind of better how does one avoid bad company QUESTION_MARK how to avoiod depression in campus causes of suicide by youths what are the effects of alcohol QUESTION_MARK i feel very low COMMA how do i overcome it QUESTION_MARK i feel painful and unwanted what can i do to change the situation QUESTION_MARK what to do to resist the bad feeling QUESTION_MARK too much classwork COMMA and how do i cope ith many responsibilities how can i stop alcohol i am facing a lot of challenges in life financially COMMA emotionally COMMA psycologically and with no solutions how can i safely look for solutions about depression on google i always feel down sad and lonely i feel i am unworthy and wasted what are the best ways i can follow to stop using it i think i can handle my drink i feel depressed because of relationship issues how can i stop taking alcohol what can i do to minimize my alcoholism how to deal and overcome bad situation effects of alcohol QUESTION_MARK i used my rent money in gambling why do i exist QUESTION_MARK will prayer help me out of sucidal thoughts PERIOD how can i get help QUESTION_MARK who could be the reason for depression QUESTION_MARK i do suffer depression at times and i think the best way to avoid it is keeping myself busy how to avoid alcohol lonely and happiness is there harm fo me when i take alcohol what is the importance of alcohol QUESTION_MARK i feel indescribable sadness what are the common ways to reduce depression i feel so low parental negletion causing my depression effects of alcohol on my body health i have a bad company of friends that influence me to smoke weed why is that i don t succed in what i do is there self worth in life QUESTION_MARK i have low self esteem how can i overcome alcoholism QUESTION_MARK how can i stop using weed i am downhearted PERIOD how can i overcome the feeling QUESTION_MARK how to stop alcohol should i stop drinking alcohol how to overcome such an incident side effects and problems associated with depression i feel so irritated COMMA why does this happen QUESTION_MARK what is the best way to withdraw from drugs QUESTION_MARK feelings of anxiety and fear and feelings of inadequacy what is a good of life QUESTION_MARK what are the effects of depression QUESTION_MARK measures to take to overcome suicidal thoughts how do i avoid getting addicted feeling lonelynow i feel better why do we use bhang QUESTION_MARK i felt incomplete and overthinking stress my feelings were chaotic COMMA sad COMMA isolatednow better how to study to avoid failing of my exams was sad COMMA lonely COMMA confusednow happy and content how can i stop drug abuse QUESTION_MARK why do we drink anyway QUESTION_MARK what is the effect of overdrinking alcohol QUESTION_MARK how to overcome this peer pressure of taking alcohol QUESTION_MARK i am thinking about school expenses how do i handle pain what can i do inorder to stop alcohol abuse how to manage social drinking QUESTION_MARK why is life so difficult QUESTION_MARK i am sad it feels as if my head is exploding lots of burnout am feeling much better i feel hopelessfor now i am just fine i got to a stagnation point COMMA dropped out of classes what are the advantages of taking bhang QUESTION_MARK i feel stressed and hopeless challenging i feel abandoned and lonely i can not stop smoking weed because of the good feeling of calmness PERIOD i am overwhelmed by life PERIOD i feel terrible is taking drugs worth it QUESTION_MARK i feel like days were flying past me why do bad things always happen to me QUESTION_MARK lonely and stressed how can i avoid wasting my money on alcohol with friends dissappointed how does one come out of depression QUESTION_MARK how to stop the addiction i am lonely and nott myself COMMA simply because of relationship issues i am still depressed and worried of my mental health how will i stop QUESTION_MARK what can one do to reduce the feeling of depression QUESTION_MARK how to reduce excess intake of alcohol whom should i disclose to my issues impacts of alcohol in real life how can i stop taking bhang QUESTION_MARK i was so depressed and i feel like the whole world was against me i really feel bored with the situation i am in COMMA and experiencing dizzines and a lack of appetite i feel things were not going my way and feel like giving up i feel like i have wasted my life insomia COMMA headache COMMA social problems how can i do without alcohol when stressed QUESTION_MARK what makes one an addict of alcohol QUESTION_MARK how can i stop drinking how to stop reduce alcohol how can i do without a relationship QUESTION_MARK how to gain momentum in academics i feel that nobody loved me as much if i was in my own world i feel much bette i feel like the world is against me how can i stop drug usage QUESTION_MARK does bhang affect your memory QUESTION_MARK i havei had a feeling of being lone ranger COMMA but i am okay now how to stop bhang QUESTION_MARK i feel like giving up everything i feel sad i feel less important to anyone causes of alcoholism PERIOD ways in which one can do to stop alcohol ways to stop alcohol addiction i feel so low like the only way out is death what is more to life QUESTION_MARK looking for employment COMMA still depressed what do i do to stop QUESTION_MARK i feel well okay i feel low and lost hope in everythingi feel better now i have a disease that drained all resources from my family i am involved in a love affair and i would like to know hw can i control myself QUESTION_MARK i waste money on alcohol what are the effects of smoking bhang QUESTION_MARK what are the best coping strategies to deal with stress QUESTION_MARK my sister oftenly faints COMMA this troubles me hopeless and how to get out of it i am depressed and want solitude is withdrawal from people helpful from commiting suicide QUESTION_MARK i feel stressed is there a peer counselling programme how to overcome alcoholism QUESTION_MARK how can i stop taking alcohol QUESTION_MARK i hate my life i have given up with everything in life causes of suicide im feeling stressed why is the larger percentage of youths involved in alcoholism where i get money for my needs where do i get money for personal needs QUESTION_MARK how do i get better QUESTION_MARK how to avoid the thoughts QUESTION_MARK what is the reason for depression QUESTION_MARK why do people think of commiting suicide QUESTION_MARK what are the effects of drug consumption QUESTION_MARK how do i overcome the feeling of being weaker and weaker in thoughts i feel horrible and unsatisfied ways of overcoming peer influence of alcoholism PERIOD how do i stop taking alcohol QUESTION_MARK do you recommend rehabilitation what will my mum think of me whren she finds out that i smoke weed QUESTION_MARK will alcohol lead me to a bad place in life why do i suffer QUESTION_MARK depressed about broken relationship with a church pastor after having sex with his highschool daughter who can guide me whn depressed QUESTION_MARK i am financially constrained over school fees and my family background is not stable with a lot of debts i have an elderly brother who could easily support me but has no job even after graduating stressed and overwhelmed by the many thingof liferight now i am taking things easy i feel very discouraged my self esteem went low i feel unloved COMMA unwanted i need advise on how to avoid alcohol does smoking make one cool QUESTION_MARK i feel depressed because of issues with my best friend and my parents i was at my lowest point being lowkey everyday i never feel like i am npt worth living feel so low and sad being left by the person i loved the most i feel trapped this are my loneliest moments i was once depressed and i feel like giving up with my life i tried asking how to stop the habit what are ways of dealing with depression i want to be alone in no company of friends i told myself to be strong enough lonely COMMA isolated COMMA very weak i feel helpless is life this hard QUESTION_MARK why is it that my health is deteroriating QUESTION_MARK i feel withdrawn COMMA alone COMMA stresssed sad how can i overcome suicide from heartbreak QUESTION_MARK i feel desparate why is the world so unfair i feel like the world is falling apart effects of alcohol in my life QUESTION_MARK how to deal with hallucinations QUESTION_MARK sad COMMA lonely and tired feel very lonelyi am quite okay i take alcohol for personal realization PERIOD how to quit alcohol QUESTION_MARK is life even worth it i feel that everything was coming to an end what are the effects of alcohol on our bodies how to manage my relationship what is the solution for feeling hopeless how can i motivate myself when feeling low never sought assistance is alcohol really harmful QUESTION_MARK what could i do to deal with frustrations QUESTION_MARK why some things happen over and over again i did not seek help does weed do any good QUESTION_MARK i feel heart broken if the person i wronged will forgive me and accept reconcilliation i feel like the world was against me COMMA especially from friends and relatives who were close to me i conqured it that my life is more important the feeling was like alone in the world sad COMMA lonely i feel like giving up is it childlish to feel depressed how can i shun from the same QUESTION_MARK feeling relieved whom will i approach when mentally disturbed QUESTION_MARK why do i always feel heartbroken all the time i have experienced stress which led to depressioni had the issue handled i fee sad and unwanted how can i be helped to come out of depression QUESTION_MARK i feel sad i am broke and very unpreparedness in exams what if i live in an isolated place QUESTION_MARK how i stop the behaviour of alcohol taking how i can be able to handle my stress and not feel like taking away my life what could be the cause of my depression COMMA how can i overcome it can beer lead to any problem QUESTION_MARK how to stop QUESTION_MARK i am in a financial crisis i have smoked weed and addidcted and need assistance QUESTION_MARK is alccohol the only form of entertainment for the young adults QUESTION_MARK i feel sad i lost my father why i needed to keep holding on to nothing PERIOD if my life really ahd a purpose how to convince someone against commiting suicide i feel bad about myself COMMA i dont want to interact with anyone how to control my emotions PERIOD how to stop drinnking PERIOD i feel so lowi feel good and better now i feel like commiting suicide and need solutions to the problem which led to the depression financial issues how can i stop bhang QUESTION_MARK how do i deal with depression COMMA should i do QUESTION_MARK how can i stop taking alcohol i feel like nobody cares i have and the feeling i had was not very pleasing how should i overcome depression QUESTION_MARK why must it be me QUESTION_MARK how can i stay without smoking QUESTION_MARK how to stop the addiction QUESTION_MARK i feel like killing myself and killing the people who caused my depression i almost gave up and got no assistance am i addicted QUESTION_MARK is alcohol helpful to ones health what is a permanent solution to depressed person QUESTION_MARK how to deal with the problems which can lead to suicide how to quit alcohol i am overwhelmed on how to deal with the issue below i am fine now i feel severely depressed i withdraw from people COMMA and prefer to be alone i lost a bet with house rent i feel uneasy difficulty with life i have feel sad and hopeless COMMA not sure if that depression are there any helpful effects of bhang QUESTION_MARK i am very nervous and bothered COMMA where can i find a rehabilitation center QUESTION_MARK suicidal thoughts COMMA stress COMMA hyper arousal what are the main causes of excessive alcohol taking why is life so difficult QUESTION_MARK i do not feel like talking to anyone what can i do to be relieved QUESTION_MARK main causes of depression and how to deal with them when they arise i feel lonely and discouraged sadi am good i feel like life does not make sense how to limit myself from getting depressed i feel like my life is done COMMA no more joy in life the loss of my beloved father why do people take alcohol and how benefitial is it to their life COMMA what should one do to avoid taking alcohol how can i make money i feel lonely and no one wanted to stay around me how can i stop using alcohol QUESTION_MARK feeling unloved or unwanted and i dont deserve to be alive how to overcome the frustration what are the causes of depression and the effects i felt emotionally low and sad most of the time i feel better COMMA stronger and happier now i am financially instable why all this challenges had to come my way where no one thought of me how to stop taking alcohol i am devastated and angry at ather people how can i stop QUESTION_MARK what are the effects and how can i get rid of it i need help COMMA who can help me manage my situation QUESTION_MARK how can i get financial sponsorship what do i do to avoid stress i feel sickly and lack appetite i feel like life is not good COMMA since i had no one to talk to what is the worst experience from alcohol why depression occurs what should i do to stop alcoholism QUESTION_MARK i felt sad COMMA was stressed COMMA lowi am now better my family split and i am deeply affected loss of a close family member what are the means to avoid alcohol QUESTION_MARK family issue what am i going to do to reconcile with parents COMMA they have rejected me QUESTION_MARK how can i get out of depression in future had a problem with my personal looks COMMA feel sad how can i stop alcohol QUESTION_MARK how can i overcome peer pressure i was depressed way back in highschool while looking for schoolfees what more is life QUESTION_MARK can i ever get back to my old person can i kill myself QUESTION_MARK i do not find pleasure in doing things how can i overcome depression what can i do not to get depressed QUESTION_MARK is there anything i can do to avoid smoking weed QUESTION_MARK how can i stop drinking alcohol i do not feel loved low and alone i am still thinking of getting back to alcohol how can i overcome the alcohol addiction does drinking alcohol solve all your problems QUESTION_MARK i have low self esteem i am fearful of failure when i start drinking alcohol can beer lead to any problem QUESTION_MARK i was much depressed and a lot of confusion i really feel so down COMMA disgusted and diserted COMMA i feel more depresses and seeking for guidance i feel lonely COMMA how do i get out of this position i feel so low sickly COMMA i was lonelycurrently feeling better after guidance and counselling why do some people judge me too quickly and why do i fail in everything i am still depressed how to help when you depressed QUESTION_MARK i feel withdrawn COMMA how do i get over an ex QUESTION_MARK i am experiencing a challenge in raising my school fees and it was not an easy task because of the family issues i feel alone and that everyone had deserted me when i need them the most i am an addict PERIOD how do i quit drinking excessive alcohol what exactly is depression how can i stop using alcohol and in what ways can it affect my future QUESTION_MARK why should i stop taking alcohol why are most of my friends ignoring me QUESTION_MARK why is it i am going through much in life compared to others feel that life is unworthy how can i quit alcoholism QUESTION_MARK what are ways to quit bhang use QUESTION_MARK fear of the future which is unpredictable and feelings of anxiety should i ignore my friends QUESTION_MARK i am making efforts to quit but it is challenging should i go back to ex girlfriend QUESTION_MARK i feel like god had abandoned me or rather i am not supposed to be born or existd what can i do with my life now how can i stop taking alcohol QUESTION_MARK how does someone commit suicide QUESTION_MARK i feel lonely and sad i feel wasted and used by my gf how can you come out from a depressing situation QUESTION_MARK am i not a man enough QUESTION_MARK how can i stop using alcohol QUESTION_MARK how do you get to the point of depression QUESTION_MARK how will campus education be of help QUESTION_MARK why am i thinking of suicide QUESTION_MARK death of a beloved one does alcohol add value to me QUESTION_MARK i just want to sleep COMMA relax COMMA not consult anybody or a feel to see anybody i feel sad and lost how better would i quit QUESTION_MARK how can i cope up with the reality of financial distress QUESTION_MARK what are the effects of bhang QUESTION_MARK how can i stop using alcohol QUESTION_MARK how to quit drinking completely QUESTION_MARK how can i overcome it QUESTION_MARK getting unexpected results COMMA dissatisfied COMMA i have relationship issues is it possible to overcome depression i feel suicidal but dont know who to talk to being financially unstable how can i get schoolfee to continue with my education i feel bad and viewed life as negativecurrently am better i feel lost COMMA unloved COMMA used annd i just wanted to be alone is life really fair QUESTION_MARK how to cope with the situation how to avoid bad company QUESTION_MARK hopeless hopeless why is alcohol sold along the school perimeter what ways i would use to get rid of my messed up life QUESTION_MARK how does it feel to drink COMMA will i get addicted by drinking once how can i feel good about myself QUESTION_MARK what are the effects of bhang to one health PERIOD reasons why young people use bhang how to avoid alcohol what to do in order to heal can alcohol make me forget my problem temporarily QUESTION_MARK i feel like i can not handle my thoughts how can i overcome depression what are the effects of alcohol on the liver i feel like nothing mattered and everything was a messnow i feel like things matter what are the effects of bhang QUESTION_MARK i cannot raise money for my education my relatives deny me i wonder if i am part of my family QUESTION_MARK how can one avoid depression QUESTION_MARK how can i overcome stress how do i make it go away QUESTION_MARK what are the causes of depression QUESTION_MARK is taking alcohol bad QUESTION_MARK i am bored what is the cure for depression how can i feel better about myself whats the meaning of life QUESTION_MARK why did my close relatives betray me QUESTION_MARK i feel very lonely that no one could understand what is the benefit of alcohol should ii talk to my friends and peer counsellor about my depression QUESTION_MARK how can i be helped to heal from depression i went through fgm when young even though i consented i feel like giving up in life how to get over depression how can i reduce my intake what are the causes of suicide why does one feel paranoid QUESTION_MARK how can i stop this addiction feelings of defeat LEFT_PAREN post exams depression RIGHT_PAREN motivated to do better i feel like calling off the semester i asked god to take away the feeling since it was so strong what can i doto receive relief QUESTION_MARK i feel like giving up in life why is alcohol manufactured QUESTION_MARK i feel a lot of stress i feel helpless how do i deal with pessimistic thoughts what are the causes of depression QUESTION_MARK how to avoid and deal with the situation and how to respond to it what makes my girlfriend cheat on me even after sacrificing everything for her sake i feel overwhelmed with many thoughts to deal i feel alone and unwanted by people around me how to stop thinking about suicide i feel like my life was being wasted how to quit the habit defering from classes because of finacial constraints how do i seek for assistance with depression QUESTION_MARK i am dealing with boredom is there any importance of living again QUESTION_MARK why live with no love from those who surround you QUESTION_MARK the way to stop addiction how will i overcome it COMMA i had an issue with my results and feel so depressed i was dumped and how long should i stay single or sould i jump into another relationship QUESTION_MARK t i feel heartbroken alcohol is caused by what issues and why QUESTION_MARK how can i get rid of depression what is this i am experiencing i didn t know it was depression can i get help QUESTION_MARK i asked if alcohol was a right solution to problems i feel hopeless and wanting to give up when someone is depressed he she feels down COMMA discouraged and alone i feel out of this place COMMA lonely and discouraged ways of distracting myself i am sad why am i depressed QUESTION_MARK is suicide the solution QUESTION_MARK i feel so low and demotivated i am now okay and happy in life how could i deal with the situation that was disturbing me i am depressed because of the death of my uncle who provided for my basic needs is it really true that weed makes one mad QUESTION_MARK is it normal to feel depressed QUESTION_MARK what is the meaning of life QUESTION_MARK i have a feeling of emptiness and alone how can i stop the drinking habit QUESTION_MARK i want to give up i was felling stressed and low PERIOD how can i cope with the situation i take alcohol for stress management PERIOD why am i depressed QUESTION_MARK what are the causes of depression what are the coping mechanisms and prevention of depression how can i quit alcoholism is alcohol harmful to my health if one looses a close relative COMMA what advice could she be given QUESTION_MARK is alcohol a good stress remover QUESTION_MARK i am lonely i lack interest in my life is little consumption harmful QUESTION_MARK owing the fact that i dont misbehave financial i am okay what would i do to do away with my problems how can i motivate myself is it possible for one to avoid taking bhang QUESTION_MARK what is the best way to avoid alcohol i felt worhtless and like i did not deserve to be alive i feel so low i feel alone COMMA how can i get better QUESTION_MARK i feel rejected COMMA alone and frustratedi live one day at a time i feel so low and i want to isolate myself why do young people use bhang QUESTION_MARK can bhang make you crazy QUESTION_MARK i took the alcohol and i loved the feeling is it normal having depression i feel alone how do i stop taking alcohol QUESTION_MARK does alcohol have any other benefitto the body QUESTION_MARK i feel awful about my life feelings of being low COMMA under the weathernow i am better why should i quit bhang QUESTION_MARK how to deal with romantic relationships what should i do when depressed QUESTION_MARK what can one do to reduce the feelings QUESTION_MARK what causes suicidal thoughts QUESTION_MARK i feel suicidal after a break up i have experienced COMMA feel a heavy burden why are drugs supplied to students QUESTION_MARK how can i overcome stress to make my life more smooth i had two miscarriages i feel lost COMMA did not what to doi stay positive what is the effect of not talking to someone when feeling suicidal i feel neglected COMMA sad i am dealing with family issues is suicide really the best method of solving a problem what can i do to avoid the shame from the village people how could i survive without my friends this has been occuring quite often how to avoid negative peer pressure how do i do away with alcohol QUESTION_MARK i am dealing with a break up from my girlfriend and a parents death i feel like i hate myself and that all the choices i have made are awful how do i improve on my performance how to handle suicide and incidencesof suicide to youths which is the best alcohol for me QUESTION_MARK how to avoid alcoholism QUESTION_MARK how do i sought for help in wanting to commit suicide i failed exams i had an f i feel like i am nothing in the worldm how can i get back selfworth QUESTION_MARK lack of financial support and relationship heartbreaks what steps should one take when depressed i feel uncomfortable i am really down with a lot of headaches why does someone drink too much QUESTION_MARK will i be criticized for taking weed QUESTION_MARK what could be causes of stress and boredom how could i leave depression QUESTION_MARK how to overcome and how o utilize finances how can i seek guidance and counselling in our school causes of depression how to contol depression can i be helped QUESTION_MARK i went bankrupt because of alcohol why is life is unfair how can i come out of this behaviour is taking alcohol harmful how can i stop using alcohol is it right to smoke weed in the name of doing it for the culture QUESTION_MARK relationship issues ways in which one can do to control the thoughts of suicide feelings of unworthyness do not want to associate with people feeling things will not work out as expected how should i avoid it i feel that the world is coming to an end my hustle is not picking up how will i live without depression QUESTION_MARK what can i do to avoid loss of concentration in class through fantasizing in class and study times on romance and ponographic issues how can the addiction be avoided between bhang and cigarette which is more harmful QUESTION_MARK i feel so low COMMA what can i do QUESTION_MARK i need to talk to a friend PERIOD how can i forgive myself from the past QUESTION_MARK i feel like i am a nobody major steps taken to get rid of alcohol consumption the world is out of control lossing bets what are the effects of taking alcohol QUESTION_MARK i feel like giving up why is bhang prohibited yet it is just like any other drug QUESTION_MARK not experienced i feel like crumbling down at home COMMA no one listens to me COMMA my parents started neglecting and despising me COMMA what can i do QUESTION_MARK is weed harmful QUESTION_MARK i feel bad COMMA now am fine low self esteem is weed really going to give me the energy i needed QUESTION_MARK i never sought any assistance how to stop alcohol intake how to deal with migraines is suicide the best remedy QUESTION_MARK i did not ask for any assistance at first but later and sought for assistance and it helped me in a good way i feel confused COMMA how can i overcome the problem QUESTION_MARK how do i resist peer pressure QUESTION_MARK i was just tired where can i get money to be drinking daily QUESTION_MARK why is it so hard to stop being a weed addict QUESTION_MARK i feel very low and at times why am i alive QUESTION_MARK life is just hard what should i do to stop alcoholism QUESTION_MARK how to become my oldself again how can someone stop it QUESTION_MARK i feel unworthy i feel so discouraged with life'"
      ]
     },
     "execution_count": 9,
     "metadata": {},
     "output_type": "execute_result"
    }
   ],
   "source": [
    "texts = ' '.join(data[\"text\"])\n",
    "texts"
   ]
  },
  {
   "cell_type": "code",
   "execution_count": 10,
   "metadata": {},
   "outputs": [],
   "source": [
    "vocabulary = texts.split()\n",
    "word_counts = Counter(vocabulary)\n",
    "trimmed_words = [word for word in vocabulary if word_counts[word] > 5]"
   ]
  },
  {
   "cell_type": "code",
   "execution_count": 11,
   "metadata": {},
   "outputs": [],
   "source": [
    "def avg_word(sentence):\n",
    "    try:\n",
    "        words = sentence.split()\n",
    "        return (sum(len(word) for word in words)/len(words))\n",
    "    except:\n",
    "        return 0"
   ]
  },
  {
   "cell_type": "code",
   "execution_count": 12,
   "metadata": {},
   "outputs": [
    {
     "name": "stdout",
     "output_type": "stream",
     "text": [
      "Roughly the number of unique words: 845\n"
     ]
    }
   ],
   "source": [
    "print('Roughly the number of unique words: {}'.format(len({word: None for word in texts.split()})))"
   ]
  },
  {
   "cell_type": "code",
   "execution_count": 13,
   "metadata": {},
   "outputs": [
    {
     "data": {
      "text/plain": [
       "4.555141287284145"
      ]
     },
     "execution_count": 13,
     "metadata": {},
     "output_type": "execute_result"
    }
   ],
   "source": [
    "avg_word(texts)"
   ]
  },
  {
   "cell_type": "code",
   "execution_count": 14,
   "metadata": {},
   "outputs": [
    {
     "data": {
      "text/html": [
       "<div>\n",
       "<style scoped>\n",
       "    .dataframe tbody tr th:only-of-type {\n",
       "        vertical-align: middle;\n",
       "    }\n",
       "\n",
       "    .dataframe tbody tr th {\n",
       "        vertical-align: top;\n",
       "    }\n",
       "\n",
       "    .dataframe thead th {\n",
       "        text-align: right;\n",
       "    }\n",
       "</style>\n",
       "<table border=\"1\" class=\"dataframe\">\n",
       "  <thead>\n",
       "    <tr style=\"text-align: right;\">\n",
       "      <th></th>\n",
       "      <th>size_text</th>\n",
       "    </tr>\n",
       "  </thead>\n",
       "  <tbody>\n",
       "    <tr>\n",
       "      <th>count</th>\n",
       "      <td>616.000000</td>\n",
       "    </tr>\n",
       "    <tr>\n",
       "      <th>mean</th>\n",
       "      <td>44.956169</td>\n",
       "    </tr>\n",
       "    <tr>\n",
       "      <th>std</th>\n",
       "      <td>22.759035</td>\n",
       "    </tr>\n",
       "    <tr>\n",
       "      <th>min</th>\n",
       "      <td>8.000000</td>\n",
       "    </tr>\n",
       "    <tr>\n",
       "      <th>25%</th>\n",
       "      <td>30.000000</td>\n",
       "    </tr>\n",
       "    <tr>\n",
       "      <th>50%</th>\n",
       "      <td>41.000000</td>\n",
       "    </tr>\n",
       "    <tr>\n",
       "      <th>75%</th>\n",
       "      <td>54.000000</td>\n",
       "    </tr>\n",
       "    <tr>\n",
       "      <th>max</th>\n",
       "      <td>195.000000</td>\n",
       "    </tr>\n",
       "  </tbody>\n",
       "</table>\n",
       "</div>"
      ],
      "text/plain": [
       "        size_text\n",
       "count  616.000000\n",
       "mean    44.956169\n",
       "std     22.759035\n",
       "min      8.000000\n",
       "25%     30.000000\n",
       "50%     41.000000\n",
       "75%     54.000000\n",
       "max    195.000000"
      ]
     },
     "execution_count": 14,
     "metadata": {},
     "output_type": "execute_result"
    }
   ],
   "source": [
    "data[\"size_text\"] = data[\"text\"].str.len()\n",
    "data.describe()"
   ]
  },
  {
   "cell_type": "code",
   "execution_count": 15,
   "metadata": {},
   "outputs": [
    {
     "data": {
      "text/html": [
       "<div>\n",
       "<style scoped>\n",
       "    .dataframe tbody tr th:only-of-type {\n",
       "        vertical-align: middle;\n",
       "    }\n",
       "\n",
       "    .dataframe tbody tr th {\n",
       "        vertical-align: top;\n",
       "    }\n",
       "\n",
       "    .dataframe thead th {\n",
       "        text-align: right;\n",
       "    }\n",
       "</style>\n",
       "<table border=\"1\" class=\"dataframe\">\n",
       "  <thead>\n",
       "    <tr style=\"text-align: right;\">\n",
       "      <th></th>\n",
       "      <th>ID</th>\n",
       "      <th>text</th>\n",
       "      <th>label</th>\n",
       "      <th>size_text</th>\n",
       "    </tr>\n",
       "  </thead>\n",
       "  <tbody>\n",
       "    <tr>\n",
       "      <th>0</th>\n",
       "      <td>SUAVK39Z</td>\n",
       "      <td>i feel that it was better i dieam happy</td>\n",
       "      <td>1</td>\n",
       "      <td>39</td>\n",
       "    </tr>\n",
       "    <tr>\n",
       "      <th>1</th>\n",
       "      <td>9JDAGUV3</td>\n",
       "      <td>why do i get hallucinations QUESTION_MARK</td>\n",
       "      <td>2</td>\n",
       "      <td>41</td>\n",
       "    </tr>\n",
       "    <tr>\n",
       "      <th>2</th>\n",
       "      <td>419WR1LQ</td>\n",
       "      <td>i am stresseed due to lack of financial suppor...</td>\n",
       "      <td>1</td>\n",
       "      <td>57</td>\n",
       "    </tr>\n",
       "    <tr>\n",
       "      <th>3</th>\n",
       "      <td>6UY7DX6Q</td>\n",
       "      <td>why is life important QUESTION_MARK</td>\n",
       "      <td>3</td>\n",
       "      <td>35</td>\n",
       "    </tr>\n",
       "    <tr>\n",
       "      <th>4</th>\n",
       "      <td>FYC0FTFB</td>\n",
       "      <td>how could i be helped to go through the depres...</td>\n",
       "      <td>1</td>\n",
       "      <td>64</td>\n",
       "    </tr>\n",
       "  </tbody>\n",
       "</table>\n",
       "</div>"
      ],
      "text/plain": [
       "         ID                                               text  label  \\\n",
       "0  SUAVK39Z            i feel that it was better i dieam happy      1   \n",
       "1  9JDAGUV3          why do i get hallucinations QUESTION_MARK      2   \n",
       "2  419WR1LQ  i am stresseed due to lack of financial suppor...      1   \n",
       "3  6UY7DX6Q                why is life important QUESTION_MARK      3   \n",
       "4  FYC0FTFB  how could i be helped to go through the depres...      1   \n",
       "\n",
       "   size_text  \n",
       "0         39  \n",
       "1         41  \n",
       "2         57  \n",
       "3         35  \n",
       "4         64  "
      ]
     },
     "execution_count": 15,
     "metadata": {},
     "output_type": "execute_result"
    }
   ],
   "source": [
    "from sklearn.preprocessing import LabelEncoder\n",
    "labelencoder = LabelEncoder()\n",
    "\n",
    "data['label'] = labelencoder.fit_transform(data['label'])\n",
    "data.head()"
   ]
  },
  {
   "cell_type": "code",
   "execution_count": 16,
   "metadata": {},
   "outputs": [],
   "source": [
    "categories = labelencoder.classes_"
   ]
  },
  {
   "cell_type": "code",
   "execution_count": 17,
   "metadata": {},
   "outputs": [
    {
     "name": "stdout",
     "output_type": "stream",
     "text": [
      "(412,)\n",
      "(204,)\n"
     ]
    }
   ],
   "source": [
    "train, test = train_test_split(data, random_state=42, test_size=0.33, shuffle=True)\n",
    "X_train = train.text\n",
    "X_test = test.text\n",
    "print(X_train.shape)\n",
    "print(X_test.shape)"
   ]
  },
  {
   "cell_type": "code",
   "execution_count": 18,
   "metadata": {},
   "outputs": [
    {
     "data": {
      "text/plain": [
       "<matplotlib.axes._subplots.AxesSubplot at 0x7fc665daf6d0>"
      ]
     },
     "execution_count": 18,
     "metadata": {},
     "output_type": "execute_result"
    },
    {
     "data": {
      "image/png": "[encoded data removed]",
      "text/plain": [
       "<Figure size 432x288 with 1 Axes>"
      ]
     },
     "metadata": {
      "needs_background": "light"
     },
     "output_type": "display_data"
    }
   ],
   "source": [
    "lens = data.text.str.len()\n",
    "lens.hist(bins = np.arange(0,300,50))"
   ]
  },
  {
   "cell_type": "markdown",
   "metadata": {},
   "source": [
    "## Embeddings \n",
    "\n",
    "### What's an embedding ? \n",
    "\n",
    "<img src=\"images/absurd.gif\" align=\"right\" width=\"200px\"/>\n",
    "\n",
    "```  \n",
    "In the context of neural networks, embeddings are low-dimensional, \n",
    "learned continuous vector representations of discrete variables. --- Google \n",
    "```\n",
    "\n",
    "``` \n",
    "An embedding (or imbedding[1]) is one instance of some mathematical\n",
    "structure contained within another instance, such as a group that is \n",
    "a subgroup. --- Wikipedia\n",
    "```\n",
    "\n",
    "\n",
    "**1. We can represent people (and things) as vectors of numbers (which is great for machines)**\n",
    "\n",
    "**2. We can easily calculate how similar vectors are to each other.**\n",
    "\n",
    "\n",
    "### 1- One hot Encoding"
   ]
  },
  {
   "cell_type": "code",
   "execution_count": 19,
   "metadata": {},
   "outputs": [
    {
     "name": "stdout",
     "output_type": "stream",
     "text": [
      "[['day']\n",
      " ['good']\n",
      " ['this']\n",
      " ['a']\n",
      " ['great']\n",
      " ['is']]\n",
      "\n",
      "\n",
      "[[0. 1. 0. 0. 0. 0.]\n",
      " [0. 0. 1. 0. 0. 0.]\n",
      " [0. 0. 0. 0. 0. 1.]\n",
      " [1. 0. 0. 0. 0. 0.]\n",
      " [0. 0. 0. 1. 0. 0.]\n",
      " [0. 0. 0. 0. 1. 0.]]\n"
     ]
    }
   ],
   "source": [
    "sentence1 = \"This is a great day\".lower()\n",
    "sentence2 = \"This is a good day\".lower()\n",
    "\n",
    "documents = (sentence1, sentence2)\n",
    "\n",
    "sentence1 = sentence1.split()\n",
    "sentence2 = sentence2.split()\n",
    "\n",
    "vocabulary = list(set(sentence1 + sentence2))\n",
    "vocabulary = np.array(vocabulary).reshape(-1, 1)\n",
    "print(vocabulary)\n",
    "print(\"\\n\")\n",
    "\n",
    "one_hot_encoder = OneHotEncoder(sparse=False)\n",
    "one_hot_encoder = one_hot_encoder.fit_transform(vocabulary)\n",
    "print(one_hot_encoder)\n"
   ]
  },
  {
   "cell_type": "code",
   "execution_count": 20,
   "metadata": {},
   "outputs": [
    {
     "name": "stdout",
     "output_type": "stream",
     "text": [
      "Similarity between this and good : \n",
      "[[0.]]\n",
      "Similarity between good and great : \n",
      "[[0.]]\n"
     ]
    }
   ],
   "source": [
    "print(\"Similarity between this and good : \")\n",
    "print(cosine_similarity(one_hot_encoder[0,:].reshape(1, -1), one_hot_encoder[1,:].reshape(1, -1)))\n",
    "\n",
    "print(\"Similarity between good and great : \")\n",
    "print(cosine_similarity(one_hot_encoder[2,:].reshape(1, -1), one_hot_encoder[1,:].reshape(1, -1)))"
   ]
  },
  {
   "cell_type": "markdown",
   "metadata": {},
   "source": [
    "### 2- TFIDF \n",
    "\n",
    "**TF-IDF** for a word in a document is calculated by multiplying two different metrics:\n",
    "\n",
    "- The **term frequency** of a word in a document. There are several ways of calculating this frequency, with the simplest being a raw count of instances a word appears in a document. Then, there are ways to adjust the frequency, by length of a document, or by the raw frequency of the most frequent word in a document.\n",
    "\n",
    "- The **inverse document frequency of the word** across a set of documents. This means, how common or rare a word is in the entire document set. The closer it is to 0, the more common a word is. This metric can be calculated by taking the total number of documents, dividing it by the number of documents that contain a word, and calculating the logarithm."
   ]
  },
  {
   "cell_type": "code",
   "execution_count": 21,
   "metadata": {},
   "outputs": [
    {
     "data": {
      "text/plain": [
       "<2x5 sparse matrix of type '<class 'numpy.float64'>'\n",
       "\twith 8 stored elements in Compressed Sparse Row format>"
      ]
     },
     "execution_count": 21,
     "metadata": {},
     "output_type": "execute_result"
    }
   ],
   "source": [
    "tfidf_vectorizer = TfidfVectorizer()\n",
    "tfidf_matrix = tfidf_vectorizer.fit_transform(documents)\n",
    "tfidf_matrix"
   ]
  },
  {
   "cell_type": "code",
   "execution_count": 21,
   "metadata": {},
   "outputs": [
    {
     "data": {
      "text/plain": [
       "array([[1.        , 0.60297482]])"
      ]
     },
     "execution_count": 21,
     "metadata": {},
     "output_type": "execute_result"
    }
   ],
   "source": [
    "cosine_similarity(tfidf_matrix[0:1], tfidf_matrix)"
   ]
  },
  {
   "cell_type": "code",
   "execution_count": 22,
   "metadata": {},
   "outputs": [
    {
     "data": {
      "text/plain": [
       "['day', 'good', 'great', 'is', 'this']"
      ]
     },
     "execution_count": 22,
     "metadata": {},
     "output_type": "execute_result"
    }
   ],
   "source": [
    "tfidf_vectorizer.get_feature_names()"
   ]
  },
  {
   "cell_type": "code",
   "execution_count": 23,
   "metadata": {},
   "outputs": [
    {
     "data": {
      "text/html": [
       "<div>\n",
       "<style scoped>\n",
       "    .dataframe tbody tr th:only-of-type {\n",
       "        vertical-align: middle;\n",
       "    }\n",
       "\n",
       "    .dataframe tbody tr th {\n",
       "        vertical-align: top;\n",
       "    }\n",
       "\n",
       "    .dataframe thead th {\n",
       "        text-align: right;\n",
       "    }\n",
       "</style>\n",
       "<table border=\"1\" class=\"dataframe\">\n",
       "  <thead>\n",
       "    <tr style=\"text-align: right;\">\n",
       "      <th></th>\n",
       "      <th>day</th>\n",
       "      <th>good</th>\n",
       "      <th>great</th>\n",
       "      <th>is</th>\n",
       "      <th>this</th>\n",
       "    </tr>\n",
       "  </thead>\n",
       "  <tbody>\n",
       "    <tr>\n",
       "      <th>0</th>\n",
       "      <td>0.448321</td>\n",
       "      <td>0.000000</td>\n",
       "      <td>0.630099</td>\n",
       "      <td>0.448321</td>\n",
       "      <td>0.448321</td>\n",
       "    </tr>\n",
       "    <tr>\n",
       "      <th>1</th>\n",
       "      <td>0.448321</td>\n",
       "      <td>0.630099</td>\n",
       "      <td>0.000000</td>\n",
       "      <td>0.448321</td>\n",
       "      <td>0.448321</td>\n",
       "    </tr>\n",
       "  </tbody>\n",
       "</table>\n",
       "</div>"
      ],
      "text/plain": [
       "        day      good     great        is      this\n",
       "0  0.448321  0.000000  0.630099  0.448321  0.448321\n",
       "1  0.448321  0.630099  0.000000  0.448321  0.448321"
      ]
     },
     "execution_count": 23,
     "metadata": {},
     "output_type": "execute_result"
    }
   ],
   "source": [
    "df = pd.DataFrame(tfidf_matrix.toarray(), columns = tfidf_vectorizer.get_feature_names())\n",
    "df"
   ]
  },
  {
   "cell_type": "code",
   "execution_count": 24,
   "metadata": {},
   "outputs": [
    {
     "name": "stdout",
     "output_type": "stream",
     "text": [
      "... Processing\n",
      "Test accuracy is 0.7254901960784313\n"
     ]
    }
   ],
   "source": [
    "# Define a pipeline combining a text feature extractor with multi label classifier\n",
    "NB_pipeline = Pipeline([\n",
    "                ('tfidf', TfidfVectorizer(stop_words=\"english\")),\n",
    "                ('classifier', MultinomialNB(\n",
    "                    fit_prior=True, class_prior=None)),\n",
    "            ])\n",
    "\n",
    "\n",
    "print('... Processing')\n",
    "NB_pipeline.fit(X_train, train[\"label\"])\n",
    "\n",
    "prediction = NB_pipeline.predict(X_test)\n",
    "print('Test accuracy is {}'.format(accuracy_score(test['label'], prediction)))"
   ]
  },
  {
   "cell_type": "code",
   "execution_count": 25,
   "metadata": {},
   "outputs": [
    {
     "data": {
      "text/plain": [
       "array([0, 1, 1, 1, 1, 0, 0, 1, 1, 1, 1, 0, 1, 1, 1, 1, 0, 0, 1, 0, 1, 0,\n",
       "       0, 0, 1, 0, 1, 1, 1, 1, 1, 1, 1, 1, 1, 1, 1, 1, 1, 1, 1, 1, 1, 1,\n",
       "       1, 1, 1, 1, 1, 1, 1, 0, 1, 0, 0, 1, 0, 1, 1, 0, 1, 1, 0, 1, 0, 1,\n",
       "       0, 1, 1, 1, 1, 0, 1, 1, 1, 0, 1, 1, 0, 1, 1, 1, 1, 0, 0, 1, 1, 0,\n",
       "       1, 1, 0, 1, 1, 0, 0, 1, 1, 1, 1, 0, 3, 1, 1, 1, 1, 0, 1, 1, 1, 0,\n",
       "       1, 1, 0, 1, 1, 1, 1, 1, 1, 1, 1, 1, 1, 1, 1, 1, 1, 0, 1, 1, 0, 1,\n",
       "       1, 0, 1, 1, 1, 1, 1, 1, 0, 1, 0, 1, 1, 1, 0, 1, 1, 0, 1, 1, 2, 0,\n",
       "       1, 1, 1, 1, 1, 1, 1, 1, 0, 1, 0, 1, 0, 1, 1, 1, 0, 1, 1, 1, 1, 1,\n",
       "       1, 1, 1, 0, 1, 1, 1, 0, 1, 1, 1, 2, 1, 1, 1, 1, 0, 1, 0, 1, 1, 1,\n",
       "       1, 0, 1, 1, 1, 0])"
      ]
     },
     "execution_count": 25,
     "metadata": {},
     "output_type": "execute_result"
    }
   ],
   "source": [
    "prediction"
   ]
  },
  {
   "cell_type": "markdown",
   "metadata": {},
   "source": [
    "### 3- Analogy Preserving Embedding\n",
    "\n",
    "<img src=\"images/embeddings.png\" />\n",
    "\n",
    "<p align=\"right\">Credits to https://www.tensorflow.org/tutorials/word2vec </p>\n",
    "\n",
    "\n",
    "You can download the pretrained vectors we're using here from : https://nlp.stanford.edu/projects/glove/"
   ]
  },
  {
   "cell_type": "code",
   "execution_count": 26,
   "metadata": {},
   "outputs": [],
   "source": [
    "embeddings_dict = {}\n",
    "with open(\"dataset/glove.6B.50d.txt\", 'r', encoding=\"utf-8\") as f:\n",
    "    for line in f:\n",
    "        values = line.split()\n",
    "        word = values[0]\n",
    "        vector = np.asarray(values[1:], \"float32\")\n",
    "        embeddings_dict[word] = vector"
   ]
  },
  {
   "cell_type": "code",
   "execution_count": 27,
   "metadata": {},
   "outputs": [
    {
     "data": {
      "text/plain": [
       "array([-0.094386,  0.43007 , -0.17224 , -0.45529 ,  1.6447  ,  0.40335 ,\n",
       "       -0.37263 ,  0.25071 , -0.10588 ,  0.10778 , -0.10848 ,  0.15181 ,\n",
       "       -0.65396 ,  0.55054 ,  0.59591 , -0.46278 ,  0.11847 ,  0.64448 ,\n",
       "       -0.70948 ,  0.23947 , -0.82905 ,  1.272   ,  0.033021,  0.2935  ,\n",
       "        0.3911  , -2.8094  , -0.70745 ,  0.4106  ,  0.3894  , -0.2913  ,\n",
       "        2.6124  , -0.34576 , -0.16832 ,  0.25154 ,  0.31216 ,  0.31639 ,\n",
       "        0.12539 , -0.012646,  0.22297 , -0.56585 , -0.086264,  0.62549 ,\n",
       "       -0.0576  ,  0.29375 ,  0.66005 , -0.53115 , -0.48233 , -0.97925 ,\n",
       "        0.53135 , -0.11725 ], dtype=float32)"
      ]
     },
     "execution_count": 27,
     "metadata": {},
     "output_type": "execute_result"
    }
   ],
   "source": [
    "embeddings_dict[\"man\"]"
   ]
  },
  {
   "cell_type": "code",
   "execution_count": 28,
   "metadata": {},
   "outputs": [
    {
     "data": {
      "text/plain": [
       "<matplotlib.axes._subplots.AxesSubplot at 0x7fa2920666d0>"
      ]
     },
     "execution_count": 28,
     "metadata": {},
     "output_type": "execute_result"
    },
    {
     "data": {
      "image/png": "[encoded data removed]",
      "text/plain": [
       "<Figure size 1440x72 with 2 Axes>"
      ]
     },
     "metadata": {
      "needs_background": "light"
     },
     "output_type": "display_data"
    }
   ],
   "source": [
    "fig, ax = plt.subplots(figsize=(20,1))\n",
    "sns.heatmap([embeddings_dict[\"man\"]], cmap=\"YlGnBu\")"
   ]
  },
  {
   "cell_type": "code",
   "execution_count": 29,
   "metadata": {},
   "outputs": [
    {
     "data": {
      "text/plain": [
       "<matplotlib.axes._subplots.AxesSubplot at 0x7fa2927a02d0>"
      ]
     },
     "execution_count": 29,
     "metadata": {},
     "output_type": "execute_result"
    },
    {
     "data": {
      "image/png": "[encoded data removed]",
      "text/plain": [
       "<Figure size 1440x144 with 2 Axes>"
      ]
     },
     "metadata": {
      "needs_background": "light"
     },
     "output_type": "display_data"
    }
   ],
   "source": [
    "great = embeddings_dict[\"great\"]\n",
    "good = embeddings_dict[\"good\"]\n",
    "\n",
    "fig, ax = plt.subplots(figsize=(20,2))\n",
    "sns.heatmap([great,good], cmap=\"Accent\")"
   ]
  },
  {
   "cell_type": "code",
   "execution_count": 30,
   "metadata": {},
   "outputs": [
    {
     "data": {
      "text/plain": [
       "<matplotlib.axes._subplots.AxesSubplot at 0x7fa28f89c0d0>"
      ]
     },
     "execution_count": 30,
     "metadata": {},
     "output_type": "execute_result"
    },
    {
     "data": {
      "image/png": "[encoded data removed]",
      "text/plain": [
       "<Figure size 1440x144 with 2 Axes>"
      ]
     },
     "metadata": {
      "needs_background": "light"
     },
     "output_type": "display_data"
    }
   ],
   "source": [
    "man = embeddings_dict[\"man\"]\n",
    "woman = embeddings_dict[\"woman\"]\n",
    "\n",
    "fig, ax = plt.subplots(figsize=(20,2))\n",
    "sns.heatmap([man,woman], cmap=\"Accent\")"
   ]
  },
  {
   "cell_type": "code",
   "execution_count": 31,
   "metadata": {},
   "outputs": [
    {
     "data": {
      "text/plain": [
       "<matplotlib.axes._subplots.AxesSubplot at 0x7fa28d038950>"
      ]
     },
     "execution_count": 31,
     "metadata": {},
     "output_type": "execute_result"
    },
    {
     "data": {
      "image/png": "[encoded data removed]",
      "text/plain": [
       "<Figure size 1440x216 with 2 Axes>"
      ]
     },
     "metadata": {
      "needs_background": "light"
     },
     "output_type": "display_data"
    }
   ],
   "source": [
    "fire = embeddings_dict[\"fire\"]\n",
    "\n",
    "fig, ax = plt.subplots(figsize=(20,3))\n",
    "sns.heatmap([man,woman, fire], cmap=\"Accent\")"
   ]
  },
  {
   "cell_type": "code",
   "execution_count": 32,
   "metadata": {},
   "outputs": [],
   "source": [
    "king = embeddings_dict[\"king\"]\n",
    "queen = embeddings_dict[\"queen\"]"
   ]
  },
  {
   "cell_type": "code",
   "execution_count": 33,
   "metadata": {},
   "outputs": [
    {
     "data": {
      "text/plain": [
       "<matplotlib.axes._subplots.AxesSubplot at 0x7fa28cee58d0>"
      ]
     },
     "execution_count": 33,
     "metadata": {},
     "output_type": "execute_result"
    },
    {
     "data": {
      "image/png": "[encoded data removed]",
      "text/plain": [
       "<Figure size 1440x144 with 2 Axes>"
      ]
     },
     "metadata": {
      "needs_background": "light"
     },
     "output_type": "display_data"
    }
   ],
   "source": [
    "q = king - man + woman\n",
    "\n",
    "fig, ax = plt.subplots(figsize=(20,2))\n",
    "sns.heatmap([q,queen], cmap=\"Accent\")"
   ]
  },
  {
   "cell_type": "code",
   "execution_count": 34,
   "metadata": {},
   "outputs": [],
   "source": [
    "from scipy import spatial\n",
    "def find_closest_embeddings(embedding):\n",
    "    return sorted(embeddings_dict.keys(), key=lambda word: spatial.distance.euclidean(embeddings_dict[word], embedding))[1:5]"
   ]
  },
  {
   "cell_type": "code",
   "execution_count": 35,
   "metadata": {},
   "outputs": [
    {
     "data": {
      "text/plain": [
       "['queen', 'prince', 'elizabeth', 'daughter']"
      ]
     },
     "execution_count": 35,
     "metadata": {},
     "output_type": "execute_result"
    }
   ],
   "source": [
    "find_closest_embeddings(q)"
   ]
  },
  {
   "cell_type": "markdown",
   "metadata": {},
   "source": [
    "#### Word2Vec"
   ]
  },
  {
   "cell_type": "markdown",
   "metadata": {},
   "source": [
    "Word2vec is a **predictive** based embeddings that uses Neural Networks to obtain each word's embeddings in the vocabulary. \n",
    "\n",
    "To achieve Word2Vec, we can use two different algorithms : \n",
    "1. **Continuous Bag of Words**, described in : https://arxiv.org/pdf/1301.3781.pdf\n",
    "2. **Skip Grams**\n",
    "\n",
    "Steps to create the embeddings: \n",
    "* We get a lot of text data (say, all Wikipedia articles, for example). then\n",
    "* We have a window (say, of three words) that we slide against all of that text.\n",
    "* The sliding window generates training samples for our model\n",
    "\n",
    "<img src=\"images/CBOW.png\" />\n"
   ]
  },
  {
   "cell_type": "markdown",
   "metadata": {},
   "source": [
    "#### Looking both ways \n",
    "<img src=\"images/back.png\" />"
   ]
  },
  {
   "cell_type": "markdown",
   "metadata": {},
   "source": [
    "#### Skip Grams \n",
    "Instead of guessing a word based on its context (the words before and after it), this other architecture tries to guess neighboring words using the current word. We can think of the window it slides against the training text as looking like this:\n",
    "<img src=\"images/skip.png\" />\n",
    "\n",
    "#### Negative Sampling \n",
    "Our training is expensive from a computational point of view. We need to find a way to reduce this number of computations. \n",
    "\n",
    "One way is to split our target into two steps:\n",
    "\n",
    "* Generate high-quality word embeddings (Don’t worry about next-word prediction).\n",
    "* Use these high-quality embeddings to train a language model (to do next-word prediction).\n",
    "\n",
    "<img src=\"images/neg_sam.png\" />\n",
    "\n",
    "### Word2Vec Process Summary \n",
    "\n",
    "1. Pre-process the text we’re training the model against: \n",
    "    * Determine the size of the vocabulary \n",
    "    * Determine the words of the vocabulary \n",
    "2. Create two matrices : \n",
    "    * Embedding matrix : (vocab_size, embedding_size) \n",
    "    * Context Matrix : (embedding_size, vocab_size) \n",
    "3. Initialize them with random values \n",
    "4. Start the training : \n",
    "    * In each step, take one positive sample (wander, lost) and the negative sample associated with it (wander, frodo). \n",
    "    * Look for the embeddings of each word ( wander in the embedding matrix, lost and frodo in the context matrix) \n",
    "    * Take the dot product of the input embeddings with the contexts embeddings (calculate the similarity) \n",
    "    * Apply the sigmoid to get numbers between 0 and 1 \n",
    "    * Calculate the error \n",
    "    * Update the matrices \n",
    "    "
   ]
  },
  {
   "cell_type": "code",
   "execution_count": 36,
   "metadata": {},
   "outputs": [
    {
     "data": {
      "text/html": [
       "<div>\n",
       "<style scoped>\n",
       "    .dataframe tbody tr th:only-of-type {\n",
       "        vertical-align: middle;\n",
       "    }\n",
       "\n",
       "    .dataframe tbody tr th {\n",
       "        vertical-align: top;\n",
       "    }\n",
       "\n",
       "    .dataframe thead th {\n",
       "        text-align: right;\n",
       "    }\n",
       "</style>\n",
       "<table border=\"1\" class=\"dataframe\">\n",
       "  <thead>\n",
       "    <tr style=\"text-align: right;\">\n",
       "      <th></th>\n",
       "      <th>ID</th>\n",
       "      <th>text</th>\n",
       "      <th>label</th>\n",
       "    </tr>\n",
       "  </thead>\n",
       "  <tbody>\n",
       "    <tr>\n",
       "      <th>0</th>\n",
       "      <td>SUAVK39Z</td>\n",
       "      <td>i feel that it was better i dieam happy</td>\n",
       "      <td>1</td>\n",
       "    </tr>\n",
       "    <tr>\n",
       "      <th>1</th>\n",
       "      <td>9JDAGUV3</td>\n",
       "      <td>why do i get hallucinations QUESTION_MARK</td>\n",
       "      <td>2</td>\n",
       "    </tr>\n",
       "    <tr>\n",
       "      <th>2</th>\n",
       "      <td>419WR1LQ</td>\n",
       "      <td>i am stresseed due to lack of financial suppor...</td>\n",
       "      <td>1</td>\n",
       "    </tr>\n",
       "    <tr>\n",
       "      <th>3</th>\n",
       "      <td>6UY7DX6Q</td>\n",
       "      <td>why is life important QUESTION_MARK</td>\n",
       "      <td>3</td>\n",
       "    </tr>\n",
       "    <tr>\n",
       "      <th>4</th>\n",
       "      <td>FYC0FTFB</td>\n",
       "      <td>how could i be helped to go through the depres...</td>\n",
       "      <td>1</td>\n",
       "    </tr>\n",
       "  </tbody>\n",
       "</table>\n",
       "</div>"
      ],
      "text/plain": [
       "         ID                                               text  label\n",
       "0  SUAVK39Z            i feel that it was better i dieam happy      1\n",
       "1  9JDAGUV3          why do i get hallucinations QUESTION_MARK      2\n",
       "2  419WR1LQ  i am stresseed due to lack of financial suppor...      1\n",
       "3  6UY7DX6Q                why is life important QUESTION_MARK      3\n",
       "4  FYC0FTFB  how could i be helped to go through the depres...      1"
      ]
     },
     "execution_count": 36,
     "metadata": {},
     "output_type": "execute_result"
    }
   ],
   "source": [
    "data.head()"
   ]
  },
  {
   "cell_type": "code",
   "execution_count": 44,
   "metadata": {},
   "outputs": [],
   "source": [
    "import string\n",
    "def tokenize (text):\n",
    "    text = re.sub(r\"[^\\x00-\\x7F]+\", \" \", text)\n",
    "    regex = re.compile('[' + re.escape(string.punctuation) + '0-9\\\\r\\\\t\\\\n]') # remove punctuation and numbers\n",
    "    nopunct = regex.sub(\" \", text.lower())\n",
    "    return text.split()"
   ]
  },
  {
   "cell_type": "code",
   "execution_count": 45,
   "metadata": {},
   "outputs": [
    {
     "data": {
      "text/plain": [
       "['bla', 'bla', 'bla']"
      ]
     },
     "execution_count": 45,
     "metadata": {},
     "output_type": "execute_result"
    }
   ],
   "source": [
    "tokenize(\"bla bla bla\")"
   ]
  },
  {
   "cell_type": "code",
   "execution_count": 46,
   "metadata": {},
   "outputs": [],
   "source": [
    "#count number of occurences of each word\n",
    "counts = Counter()\n",
    "for index, row in data.iterrows():\n",
    "    counts.update(tokenize(row['text']))"
   ]
  },
  {
   "cell_type": "code",
   "execution_count": 47,
   "metadata": {},
   "outputs": [
    {
     "name": "stdout",
     "output_type": "stream",
     "text": [
      "num_words before: 845\n",
      "num_words after: 362\n"
     ]
    }
   ],
   "source": [
    "print(\"num_words before:\",len(counts.keys()))\n",
    "for word in list(counts):\n",
    "    if counts[word] < 2:\n",
    "        del counts[word]\n",
    "print(\"num_words after:\",len(counts.keys()))"
   ]
  },
  {
   "cell_type": "code",
   "execution_count": 56,
   "metadata": {},
   "outputs": [],
   "source": [
    "#creating vocabulary\n",
    "vocab2index = {\"\":0, \"UNK\":1}\n",
    "words = [\"\", \"UNK\"]\n",
    "for word in counts:\n",
    "    vocab2index[word] = len(words)\n",
    "    words.append(word)"
   ]
  },
  {
   "cell_type": "code",
   "execution_count": 57,
   "metadata": {},
   "outputs": [],
   "source": [
    "def encode_sentence(text, vocab2index, N=50):\n",
    "    tokenized = tokenize(text)\n",
    "    encoded = np.zeros(N, dtype=int)\n",
    "    enc1 = np.array([vocab2index.get(word, vocab2index[\"UNK\"]) for word in tokenized])\n",
    "    length = min(N, len(enc1))\n",
    "    encoded[:length] = enc1[:length]\n",
    "    return encoded, length"
   ]
  },
  {
   "cell_type": "code",
   "execution_count": 59,
   "metadata": {},
   "outputs": [
    {
     "data": {
      "text/plain": [
       "(array([ 9, 22, 38, 39, 40, 15, 41, 42, 20, 43, 23,  0,  0,  0,  0,  0,  0,\n",
       "         0,  0,  0,  0,  0,  0,  0,  0,  0,  0,  0,  0,  0,  0,  0,  0,  0,\n",
       "         0,  0,  0,  0,  0,  0,  0,  0,  0,  0,  0,  0,  0,  0,  0,  0]),\n",
       " 11)"
      ]
     },
     "execution_count": 59,
     "metadata": {},
     "output_type": "execute_result"
    }
   ],
   "source": [
    "encode_sentence(data[\"text\"][6], vocab2index )"
   ]
  },
  {
   "cell_type": "code",
   "execution_count": 60,
   "metadata": {},
   "outputs": [
    {
     "data": {
      "text/html": [
       "<div>\n",
       "<style scoped>\n",
       "    .dataframe tbody tr th:only-of-type {\n",
       "        vertical-align: middle;\n",
       "    }\n",
       "\n",
       "    .dataframe tbody tr th {\n",
       "        vertical-align: top;\n",
       "    }\n",
       "\n",
       "    .dataframe thead th {\n",
       "        text-align: right;\n",
       "    }\n",
       "</style>\n",
       "<table border=\"1\" class=\"dataframe\">\n",
       "  <thead>\n",
       "    <tr style=\"text-align: right;\">\n",
       "      <th></th>\n",
       "      <th>ID</th>\n",
       "      <th>text</th>\n",
       "      <th>label</th>\n",
       "      <th>size_text</th>\n",
       "      <th>encoded</th>\n",
       "    </tr>\n",
       "  </thead>\n",
       "  <tbody>\n",
       "    <tr>\n",
       "      <th>0</th>\n",
       "      <td>SUAVK39Z</td>\n",
       "      <td>i feel that it was better i dieam happy</td>\n",
       "      <td>1</td>\n",
       "      <td>39</td>\n",
       "      <td>[[2, 3, 4, 5, 6, 7, 2, 1, 8, 0, 0, 0, 0, 0, 0,...</td>\n",
       "    </tr>\n",
       "    <tr>\n",
       "      <th>1</th>\n",
       "      <td>9JDAGUV3</td>\n",
       "      <td>why do i get hallucinations QUESTION_MARK</td>\n",
       "      <td>2</td>\n",
       "      <td>41</td>\n",
       "      <td>[[9, 10, 2, 11, 12, 13, 0, 0, 0, 0, 0, 0, 0, 0...</td>\n",
       "    </tr>\n",
       "    <tr>\n",
       "      <th>2</th>\n",
       "      <td>419WR1LQ</td>\n",
       "      <td>i am stresseed due to lack of financial suppor...</td>\n",
       "      <td>1</td>\n",
       "      <td>57</td>\n",
       "      <td>[[2, 14, 1, 1, 15, 16, 17, 18, 19, 20, 21, 0, ...</td>\n",
       "    </tr>\n",
       "    <tr>\n",
       "      <th>3</th>\n",
       "      <td>6UY7DX6Q</td>\n",
       "      <td>why is life important QUESTION_MARK</td>\n",
       "      <td>3</td>\n",
       "      <td>35</td>\n",
       "      <td>[[9, 22, 23, 24, 13, 0, 0, 0, 0, 0, 0, 0, 0, 0...</td>\n",
       "    </tr>\n",
       "    <tr>\n",
       "      <th>4</th>\n",
       "      <td>FYC0FTFB</td>\n",
       "      <td>how could i be helped to go through the depres...</td>\n",
       "      <td>1</td>\n",
       "      <td>64</td>\n",
       "      <td>[[25, 26, 2, 27, 28, 15, 29, 30, 31, 32, 13, 0...</td>\n",
       "    </tr>\n",
       "  </tbody>\n",
       "</table>\n",
       "</div>"
      ],
      "text/plain": [
       "         ID                                               text  label  \\\n",
       "0  SUAVK39Z            i feel that it was better i dieam happy      1   \n",
       "1  9JDAGUV3          why do i get hallucinations QUESTION_MARK      2   \n",
       "2  419WR1LQ  i am stresseed due to lack of financial suppor...      1   \n",
       "3  6UY7DX6Q                why is life important QUESTION_MARK      3   \n",
       "4  FYC0FTFB  how could i be helped to go through the depres...      1   \n",
       "\n",
       "   size_text                                            encoded  \n",
       "0         39  [[2, 3, 4, 5, 6, 7, 2, 1, 8, 0, 0, 0, 0, 0, 0,...  \n",
       "1         41  [[9, 10, 2, 11, 12, 13, 0, 0, 0, 0, 0, 0, 0, 0...  \n",
       "2         57  [[2, 14, 1, 1, 15, 16, 17, 18, 19, 20, 21, 0, ...  \n",
       "3         35  [[9, 22, 23, 24, 13, 0, 0, 0, 0, 0, 0, 0, 0, 0...  \n",
       "4         64  [[25, 26, 2, 27, 28, 15, 29, 30, 31, 32, 13, 0...  "
      ]
     },
     "execution_count": 60,
     "metadata": {},
     "output_type": "execute_result"
    }
   ],
   "source": [
    "data['encoded'] = data['text'].apply(lambda x: np.array(encode_sentence(x,vocab2index )))\n",
    "data.head()"
   ]
  },
  {
   "cell_type": "code",
   "execution_count": 92,
   "metadata": {},
   "outputs": [
    {
     "name": "stdout",
     "output_type": "stream",
     "text": [
      "(412,)\n",
      "(204,)\n"
     ]
    }
   ],
   "source": [
    "train, test = train_test_split(data, random_state=42, test_size=0.33, shuffle=True)\n",
    "X_train = train.encoded\n",
    "X_test = test.encoded\n",
    "print(X_train.shape)\n",
    "print(X_test.shape)"
   ]
  },
  {
   "cell_type": "code",
   "execution_count": 93,
   "metadata": {},
   "outputs": [],
   "source": [
    "class textDataset(Dataset):\n",
    "    def __init__(self, X, Y):\n",
    "        self.X = X\n",
    "        self.y = Y\n",
    "        \n",
    "    def __len__(self):\n",
    "        return len(self.y)\n",
    "    \n",
    "    def __getitem__(self, idx):\n",
    "        return torch.from_numpy(self.X[idx][0].astype(np.int32)), self.y[idx], self.X[idx][1]"
   ]
  },
  {
   "cell_type": "code",
   "execution_count": 94,
   "metadata": {},
   "outputs": [
    {
     "data": {
      "text/plain": [
       "565    [[2, 269, 1, 87, 17, 48, 0, 0, 0, 0, 0, 0, 0, ...\n",
       "425    [[33, 34, 31, 35, 17, 52, 13, 0, 0, 0, 0, 0, 0...\n",
       "167    [[78, 62, 25, 15, 11, 73, 17, 5, 0, 0, 0, 0, 0...\n",
       "54     [[2, 3, 115, 87, 17, 160, 161, 0, 0, 0, 0, 0, ...\n",
       "437    [[9, 299, 68, 303, 302, 1, 123, 13, 0, 0, 0, 0...\n",
       "                             ...                        \n",
       "71     [[2, 3, 39, 72, 0, 0, 0, 0, 0, 0, 0, 0, 0, 0, ...\n",
       "106    [[2, 14, 59, 0, 0, 0, 0, 0, 0, 0, 0, 0, 0, 0, ...\n",
       "270    [[18, 161, 0, 0, 0, 0, 0, 0, 0, 0, 0, 0, 0, 0,...\n",
       "435    [[25, 76, 2, 3, 7, 151, 170, 0, 0, 0, 0, 0, 0,...\n",
       "102    [[25, 10, 2, 158, 1, 0, 0, 0, 0, 0, 0, 0, 0, 0...\n",
       "Name: encoded, Length: 412, dtype: object"
      ]
     },
     "execution_count": 94,
     "metadata": {},
     "output_type": "execute_result"
    }
   ],
   "source": [
    "X_train"
   ]
  },
  {
   "cell_type": "code",
   "execution_count": 101,
   "metadata": {},
   "outputs": [],
   "source": [
    "train_ds = textDataset(X_train.values, train[\"label\"].values)\n",
    "valid_ds = textDataset(X_test.values, test[\"label\"].values)"
   ]
  },
  {
   "cell_type": "code",
   "execution_count": 102,
   "metadata": {},
   "outputs": [
    {
     "data": {
      "text/plain": [
       "(tensor([  2, 269,   1,  87,  17,  48,   0,   0,   0,   0,   0,   0,   0,   0,\n",
       "           0,   0,   0,   0,   0,   0,   0,   0,   0,   0,   0,   0,   0,   0,\n",
       "           0,   0,   0,   0,   0,   0,   0,   0,   0,   0,   0,   0,   0,   0,\n",
       "           0,   0,   0,   0,   0,   0,   0,   0], dtype=torch.int32),\n",
       " 0,\n",
       " 6)"
      ]
     },
     "execution_count": 102,
     "metadata": {},
     "output_type": "execute_result"
    }
   ],
   "source": [
    "train_ds.__getitem__(0)"
   ]
  },
  {
   "cell_type": "code",
   "execution_count": 103,
   "metadata": {},
   "outputs": [],
   "source": [
    "def train_model(model, epochs=10, lr=0.001):\n",
    "    parameters = filter(lambda p: p.requires_grad, model.parameters())\n",
    "    optimizer = torch.optim.Adam(parameters, lr=lr)\n",
    "    for i in range(epochs):\n",
    "        model.train()\n",
    "        sum_loss = 0.0\n",
    "        total = 0\n",
    "        for x, y, l in train_dl:\n",
    "            x = x.long()\n",
    "            y = y.long()\n",
    "            y_pred = model(x, l)\n",
    "            optimizer.zero_grad()\n",
    "            loss = F.cross_entropy(y_pred, y)\n",
    "            loss.backward()\n",
    "            optimizer.step()\n",
    "            sum_loss += loss.item()*y.shape[0]\n",
    "            total += y.shape[0]\n",
    "        val_loss, val_acc, val_rmse = validation_metrics(model, val_dl)\n",
    "        if i % 5 == 1:\n",
    "            print(\"train loss %.3f, val loss %.3f, val accuracy %.3f, and val rmse %.3f\" % (sum_loss/total, val_loss, val_acc, val_rmse))\n",
    "\n",
    "def validation_metrics (model, valid_dl):\n",
    "    model.eval()\n",
    "    correct = 0\n",
    "    total = 0\n",
    "    sum_loss = 0.0\n",
    "    sum_rmse = 0.0\n",
    "    for x, y, l in valid_dl:\n",
    "        x = x.long()\n",
    "        y = y.long()\n",
    "        y_hat = model(x, l)\n",
    "        loss = F.cross_entropy(y_hat, y)\n",
    "        pred = torch.max(y_hat, 1)[1]\n",
    "        correct += (pred == y).float().sum()\n",
    "        total += y.shape[0]\n",
    "        sum_loss += loss.item()*y.shape[0]\n",
    "        sum_rmse += np.sqrt(mean_squared_error(pred, y.unsqueeze(-1)))*y.shape[0]\n",
    "    return sum_loss/total, correct/total, sum_rmse/total"
   ]
  },
  {
   "cell_type": "code",
   "execution_count": 104,
   "metadata": {},
   "outputs": [],
   "source": [
    "batch_size = 32\n",
    "vocab_size = len(words)\n",
    "train_dl = DataLoader(train_ds, batch_size=batch_size, shuffle=True)\n",
    "val_dl = DataLoader(valid_ds, batch_size=batch_size)"
   ]
  },
  {
   "cell_type": "code",
   "execution_count": 105,
   "metadata": {},
   "outputs": [],
   "source": [
    "class LSTM_fixed_len(torch.nn.Module) :\n",
    "    def __init__(self, vocab_size, embedding_dim, hidden_dim) :\n",
    "        super().__init__()\n",
    "        self.embeddings = nn.Embedding(vocab_size, embedding_dim, padding_idx=0)\n",
    "        self.lstm = nn.LSTM(embedding_dim, hidden_dim, batch_first=True)\n",
    "        self.linear = nn.Linear(hidden_dim, 4)\n",
    "        self.dropout = nn.Dropout(0.2)\n",
    "        \n",
    "    def forward(self, x, l):\n",
    "        x = self.embeddings(x)\n",
    "        x = self.dropout(x)\n",
    "        lstm_out, (ht, ct) = self.lstm(x)\n",
    "        return self.linear(ht[-1])"
   ]
  },
  {
   "cell_type": "code",
   "execution_count": 108,
   "metadata": {},
   "outputs": [
    {
     "name": "stdout",
     "output_type": "stream",
     "text": [
      "train loss 1.123, val loss 1.203, val accuracy 0.525, and val rmse 0.933\n",
      "train loss 1.078, val loss 1.223, val accuracy 0.525, and val rmse 0.933\n",
      "train loss 1.074, val loss 1.216, val accuracy 0.525, and val rmse 0.933\n",
      "train loss 1.075, val loss 1.219, val accuracy 0.525, and val rmse 0.933\n",
      "train loss 1.075, val loss 1.223, val accuracy 0.525, and val rmse 0.933\n",
      "train loss 1.075, val loss 1.220, val accuracy 0.525, and val rmse 0.933\n"
     ]
    }
   ],
   "source": [
    "model_fixed = LSTM_fixed_len(vocab_size, 50, 100)\n",
    "train_model(model_fixed, epochs=5, lr=0.01)"
   ]
  },
  {
   "cell_type": "markdown",
   "metadata": {},
   "source": [
    "## Transfer learning ! \n",
    "\n",
    "#### What are the best models available?\n",
    "* XLNET\n",
    "* Google’s BERT \n",
    "* Transformer-XL\n",
    "\n",
    "To get an overview of each model : https://www.analyticsvidhya.com/blog/2019/03/pretrained-models-get-started-nlp/ "
   ]
  },
  {
   "cell_type": "code",
   "execution_count": 109,
   "metadata": {},
   "outputs": [
    {
     "data": {
      "text/html": [
       "<div>\n",
       "<style scoped>\n",
       "    .dataframe tbody tr th:only-of-type {\n",
       "        vertical-align: middle;\n",
       "    }\n",
       "\n",
       "    .dataframe tbody tr th {\n",
       "        vertical-align: top;\n",
       "    }\n",
       "\n",
       "    .dataframe thead th {\n",
       "        text-align: right;\n",
       "    }\n",
       "</style>\n",
       "<table border=\"1\" class=\"dataframe\">\n",
       "  <thead>\n",
       "    <tr style=\"text-align: right;\">\n",
       "      <th></th>\n",
       "      <th>text</th>\n",
       "      <th>label</th>\n",
       "    </tr>\n",
       "  </thead>\n",
       "  <tbody>\n",
       "    <tr>\n",
       "      <th>565</th>\n",
       "      <td>i went bankrupt because of alcohol</td>\n",
       "      <td>0</td>\n",
       "    </tr>\n",
       "    <tr>\n",
       "      <th>425</th>\n",
       "      <td>what are the effects of bhang QUESTION_MARK</td>\n",
       "      <td>2</td>\n",
       "    </tr>\n",
       "    <tr>\n",
       "      <th>167</th>\n",
       "      <td>hopeless and how to get out of it</td>\n",
       "      <td>1</td>\n",
       "    </tr>\n",
       "    <tr>\n",
       "      <th>54</th>\n",
       "      <td>i feel depressed because of relationship issues</td>\n",
       "      <td>1</td>\n",
       "    </tr>\n",
       "    <tr>\n",
       "      <th>437</th>\n",
       "      <td>why did my close relatives betray me QUESTION_...</td>\n",
       "      <td>1</td>\n",
       "    </tr>\n",
       "  </tbody>\n",
       "</table>\n",
       "</div>"
      ],
      "text/plain": [
       "                                                  text  label\n",
       "565                 i went bankrupt because of alcohol      0\n",
       "425        what are the effects of bhang QUESTION_MARK      2\n",
       "167                  hopeless and how to get out of it      1\n",
       "54     i feel depressed because of relationship issues      1\n",
       "437  why did my close relatives betray me QUESTION_...      1"
      ]
     },
     "execution_count": 109,
     "metadata": {},
     "output_type": "execute_result"
    }
   ],
   "source": [
    "train_df = pd.DataFrame({\n",
    "    'text': train[\"text\"],\n",
    "    'label':train[\"label\"].astype(int)\n",
    "})\n",
    "\n",
    "train_df.head()"
   ]
  },
  {
   "cell_type": "code",
   "execution_count": null,
   "metadata": {},
   "outputs": [
    {
     "data": {
      "application/vnd.jupyter.widget-view+json": {
       "model_id": "fab19befb44547a78b4427016c04d5cf",
       "version_major": 2,
       "version_minor": 0
      },
      "text/plain": [
       "HBox(children=(FloatProgress(value=0.0, description='Downloading', max=501200538.0, style=ProgressStyle(descri…"
      ]
     },
     "metadata": {},
     "output_type": "display_data"
    }
   ],
   "source": [
    "from simpletransformers.classification import ClassificationModel\n",
    "\n",
    "model = ClassificationModel('roberta', 'roberta-base', num_labels=4, args={'learning_rate':1e-5, 'num_train_epochs': 10, 'reprocess_input_data': True, 'overwrite_output_dir': True}, use_cuda=False)"
   ]
  },
  {
   "cell_type": "code",
   "execution_count": null,
   "metadata": {},
   "outputs": [],
   "source": [
    "model.train_model(train_df, num_train_epochs=10)"
   ]
  },
  {
   "cell_type": "code",
   "execution_count": null,
   "metadata": {},
   "outputs": [],
   "source": [
    "sentences = test[\"text\"]\n",
    "predictions, raw_outputs = model.predict(sentences)"
   ]
  },
  {
   "cell_type": "markdown",
   "metadata": {},
   "source": [
    "## More on NLP \n",
    "* THE BEST : http://jalammar.github.io/ \n",
    "* Libraries and models : https://medium.com/dataseries/nlp-libraries-and-pretrained-models-94c9a53a295a"
   ]
  }
 ],
 "metadata": {
  "kernelspec": {
   "display_name": "Python 3",
   "language": "python",
   "name": "python3"
  },
  "language_info": {
   "codemirror_mode": {
    "name": "ipython",
    "version": 3
   },
   "file_extension": ".py",
   "mimetype": "text/x-python",
   "name": "python",
   "nbconvert_exporter": "python",
   "pygments_lexer": "ipython3",
   "version": "3.7.7"
  }
 },
 "nbformat": 4,
 "nbformat_minor": 2
}
